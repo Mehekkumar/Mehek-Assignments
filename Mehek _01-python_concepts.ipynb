{
 "cells": [
  {
   "cell_type": "markdown",
   "id": "9383bafa",
   "metadata": {},
   "source": [
    "### Python Programming Concepts"
   ]
  },
  {
   "cell_type": "markdown",
   "id": "17df7d6e",
   "metadata": {},
   "source": [
    "#### 1. Create a variable to store the value 500 for sales"
   ]
  },
  {
   "cell_type": "code",
   "execution_count": 3,
   "id": "a5f43c2f",
   "metadata": {},
   "outputs": [
    {
     "name": "stdout",
     "output_type": "stream",
     "text": [
      "500\n"
     ]
    }
   ],
   "source": [
    "sales=500\n",
    "print(sales)"
   ]
  },
  {
   "cell_type": "markdown",
   "id": "6dc8b9ea",
   "metadata": {},
   "source": [
    "#### 2. Create a variable to store several values:  \n",
    "* sales: 500, 475, 625\n",
    "* integers 1 - 9 "
   ]
  },
  {
   "cell_type": "code",
   "execution_count": 5,
   "id": "902fe3bd",
   "metadata": {},
   "outputs": [
    {
     "name": "stdout",
     "output_type": "stream",
     "text": [
      "[500, 475, 625]\n",
      "[1, 2, 3, 4, 5, 6, 7, 8, 9]\n"
     ]
    }
   ],
   "source": [
    "sales= [500, 475, 625]\n",
    "integers= list (range(1,10))\n",
    "print(sales)\n",
    "print(integers)"
   ]
  },
  {
   "cell_type": "markdown",
   "id": "62e55953",
   "metadata": {},
   "source": [
    "#### 3. Create a variable to store the names and email addresses for a number of customers\n",
    "* John, john@some.com; Ann, ann@some.com"
   ]
  },
  {
   "cell_type": "code",
   "execution_count": 13,
   "id": "03f2b161",
   "metadata": {},
   "outputs": [],
   "source": [
    "customers = [{'name': 'John', 'email': 'john@some.com'},{'name': 'Ann', 'email': 'ann@some.com'}]"
   ]
  },
  {
   "cell_type": "markdown",
   "id": "d6b1e8c6",
   "metadata": {},
   "source": [
    "#### 4. Use Python to generate a random value based on each of following:\n",
    "1. between 0 and 1\n",
    "2. the standard normal distribution (rounded to two decimal places)\n",
    "3. a value between 1 and 10\n",
    "4. either H or T"
   ]
  },
  {
   "cell_type": "code",
   "execution_count": 11,
   "id": "f004d7b5",
   "metadata": {},
   "outputs": [],
   "source": [
    "import random"
   ]
  },
  {
   "cell_type": "code",
   "execution_count": 23,
   "id": "a8efc6fc",
   "metadata": {},
   "outputs": [
    {
     "data": {
      "text/plain": [
       "0.368298870843344"
      ]
     },
     "execution_count": 23,
     "metadata": {},
     "output_type": "execute_result"
    }
   ],
   "source": [
    "random.random()"
   ]
  },
  {
   "cell_type": "code",
   "execution_count": 25,
   "id": "3a150c3e",
   "metadata": {},
   "outputs": [
    {
     "data": {
      "text/plain": [
       "-0.96"
      ]
     },
     "execution_count": 25,
     "metadata": {},
     "output_type": "execute_result"
    }
   ],
   "source": [
    "round(random.normalvariate(),2)"
   ]
  },
  {
   "cell_type": "code",
   "execution_count": 27,
   "id": "f20b6134-2d52-4465-a867-e7b69e9a9d94",
   "metadata": {},
   "outputs": [
    {
     "data": {
      "text/plain": [
       "1"
      ]
     },
     "execution_count": 27,
     "metadata": {},
     "output_type": "execute_result"
    }
   ],
   "source": [
    "random.randint(1,10)"
   ]
  },
  {
   "cell_type": "code",
   "execution_count": 29,
   "id": "f80f4b3b",
   "metadata": {},
   "outputs": [
    {
     "data": {
      "text/plain": [
       "'T'"
      ]
     },
     "execution_count": 29,
     "metadata": {},
     "output_type": "execute_result"
    }
   ],
   "source": [
    "random.choice(['H','T'])"
   ]
  },
  {
   "cell_type": "code",
   "execution_count": null,
   "id": "bdb52b86",
   "metadata": {},
   "outputs": [],
   "source": []
  },
  {
   "cell_type": "markdown",
   "id": "7eddf06a",
   "metadata": {},
   "source": [
    "#### 5. Use Python to determine your current working directory"
   ]
  },
  {
   "cell_type": "code",
   "execution_count": 31,
   "id": "d8f79474",
   "metadata": {},
   "outputs": [
    {
     "data": {
      "text/plain": [
       "'/Users/mehekkumar/OIM7502_SP25'"
      ]
     },
     "execution_count": 31,
     "metadata": {},
     "output_type": "execute_result"
    }
   ],
   "source": [
    "import os\n",
    "os.getcwd()"
   ]
  },
  {
   "cell_type": "markdown",
   "id": "fc43ec50",
   "metadata": {},
   "source": [
    "#### 6. Use Python to determine how many days until New Year's Day"
   ]
  },
  {
   "cell_type": "code",
   "execution_count": 1,
   "id": "13f630fe",
   "metadata": {},
   "outputs": [
    {
     "name": "stdout",
     "output_type": "stream",
     "text": [
      "328 days, 0:00:00\n"
     ]
    }
   ],
   "source": [
    "import datetime as dt\n",
    "today = dt.date.today()\n",
    "nyd = dt.date(2026,1,1)\n",
    "print(nyd - today)"
   ]
  },
  {
   "cell_type": "markdown",
   "id": "2ba4ea92",
   "metadata": {},
   "source": [
    "#### 7. Write a short program that displays the future value of 1,000 earning 5%  at the end of each year for the next 5 years"
   ]
  },
  {
   "cell_type": "code",
   "execution_count": 3,
   "id": "6fef4a8c",
   "metadata": {},
   "outputs": [
    {
     "name": "stdout",
     "output_type": "stream",
     "text": [
      "Year\tFuture Value\n",
      "1\t$1050.00\n",
      "2\t$1102.50\n",
      "3\t$1157.63\n",
      "4\t$1215.51\n",
      "5\t$1276.28\n"
     ]
    }
   ],
   "source": [
    "principal = 1000  \n",
    "rate = 0.05  \n",
    "\n",
    "print(\"Year\\tFuture Value\")\n",
    "for year in range(1, 6):\n",
    "    future_value = principal * (1 + rate) ** year\n",
    "    print(f\"{year}\\t${future_value:.2f}\")"
   ]
  },
  {
   "cell_type": "markdown",
   "id": "150201c8",
   "metadata": {},
   "source": [
    "#### 8. Write a short program that prompts a user to enter a stock symbol and press enter. Add each symbol entered to a variable. The program should run until the user presses the enter key without entering anything (empty string) "
   ]
  },
  {
   "cell_type": "code",
   "execution_count": 5,
   "id": "931a346f",
   "metadata": {},
   "outputs": [
    {
     "name": "stdin",
     "output_type": "stream",
     "text": [
      "Enter a stock symbol (or press Enter to finish):  \n"
     ]
    },
    {
     "name": "stdout",
     "output_type": "stream",
     "text": [
      "\n",
      "Stock symbols entered: []\n"
     ]
    }
   ],
   "source": [
    "stock_symbols = []\n",
    "\n",
    "while True:\n",
    "    symbol = input(\"Enter a stock symbol (or press Enter to finish): \").strip()\n",
    "    if symbol == \"\":\n",
    "        break\n",
    "    stock_symbols.append(symbol)\n",
    "\n",
    "print(\"\\nStock symbols entered:\", stock_symbols)"
   ]
  },
  {
   "cell_type": "markdown",
   "id": "fc2a7592",
   "metadata": {},
   "source": [
    "#### 9. Write the code necessary to calculate the sum of the square differences of a group of values : \n",
    "58, 32, 37, 41, 36, 36, 54, 37, 25, 53\n",
    "##### $\\Sigma $(${x}$ - $\\bar{x}$)$^2$"
   ]
  },
  {
   "cell_type": "code",
   "execution_count": 8,
   "id": "13d9a6c5",
   "metadata": {},
   "outputs": [
    {
     "name": "stdout",
     "output_type": "stream",
     "text": [
      "Sum of square differences: 1020.90\n"
     ]
    }
   ],
   "source": [
    "\n",
    "values = [58, 32, 37, 41, 36, 36, 54, 37, 25, 53]\n",
    "\n",
    "mean_value = sum(values) / len(values)\n",
    "\n",
    "sum_square_diff = sum((x - mean_value) ** 2 for x in values)\n",
    "\n",
    "print(f\"Sum of square differences: {sum_square_diff:.2f}\")\n"
   ]
  },
  {
   "cell_type": "markdown",
   "id": "6d6f2e64",
   "metadata": {},
   "source": [
    "#### 10. Opening, reading and writing files"
   ]
  },
  {
   "cell_type": "code",
   "execution_count": 10,
   "id": "f7fa569d",
   "metadata": {},
   "outputs": [
    {
     "data": {
      "text/plain": [
       "[\"They're selling postcards of the hanging, they're painting the passports brown\\n\",\n",
       " 'The beauty parlor is filled with sailors, the circus is in town\\n',\n",
       " \"Here comes the blind commissioner, they've got him in a trance\\n\",\n",
       " 'One hand is tied to the tight-rope walker, the other is in his pants\\n',\n",
       " \"And the riot squad they're restless, they need somewhere to go\\n\",\n",
       " 'As Lady and I look out tonight, from Desolation Row\\n',\n",
       " 'Cinderella, she seems so easy, \"It takes one to know one, \" she smiles\\n',\n",
       " 'And puts her hands in her back pockets Bette Davis style\\n',\n",
       " 'And in comes Romeo, he\\'s moaning. \"You Belong to Me I Believe\"\\n',\n",
       " 'And someone says, \"You\\'re in the wrong place, my friend, you\\'d better leave\"\\n',\n",
       " \"And the only sound that's left after the ambulances go\\n\",\n",
       " 'Is Cinderella sweeping up on Desolation Row\\n',\n",
       " 'Now the moon is almost hidden, the stars are beginning to hide\\n',\n",
       " 'The fortune telling lady has even taken all her things inside\\n',\n",
       " 'All except for Cain and Abel and the hunchback of Notre Dame\\n',\n",
       " 'Everybody is making love or else expecting rain\\n',\n",
       " \"And the Good Samaritan, he's dressing, he's getting ready for the show\\n\",\n",
       " \"He's going to the carnival tonight on Desolation Row\\n\",\n",
       " \"Ophelia, she's 'neath the window for her I feel so afraid\\n\",\n",
       " 'On her twenty-second birthday she already is an old maid\\n',\n",
       " 'To her, death is quite romantic she wears an iron vest\\n',\n",
       " \"Her profession's her religion, her sin is her lifelessness\\n\",\n",
       " \"And though her eyes are fixed upon Noah's great rainbow\\n\",\n",
       " 'She spends her time peeking into Desolation Row\\n',\n",
       " 'Einstein, disguised as Robin Hood with his memories in a trunk\\n',\n",
       " 'Passed this way an hour ago with his friend, a jealous monk\\n',\n",
       " 'Now he looked so immaculately frightful as he bummed a cigarette\\n',\n",
       " 'And he when off sniffing drainpipes and reciting the alphabet\\n',\n",
       " 'You would not think to look at him, but he was famous long ago\\n',\n",
       " 'For playing the electric violin on Desolation Row\\n',\n",
       " 'Dr. Filth, he keeps his world inside of a leather cup\\n',\n",
       " \"But all his sexless patients, they're trying to blow it up\\n\",\n",
       " \"Now his nurse, some local loser, she's in charge of the cyanide hole\\n\",\n",
       " 'And she also keeps the cards that read, \"Have Mercy on His Soul\"\\n',\n",
       " 'They all play on the penny whistles, you can hear them blow\\n',\n",
       " 'If you lean your head out far enough from Desolation Row\\n',\n",
       " \"Across the street they've nailed the curtains, they're getting ready for the feast\\n\",\n",
       " 'The Phantom of the Opera in a perfect image of a priest\\n',\n",
       " 'They are spoon feeding Casanova to get him to feel more assured\\n',\n",
       " \"Then they'll kill him with self-confidence after poisoning him with words\\n\",\n",
       " 'And the Phantom\\'s shouting to skinny girls, \"Get outta here if you don\\'t know\"\\n',\n",
       " 'Casanova is just being punished for going to Desolation Row\"\\n',\n",
       " 'At midnight all the agents and the superhuman crew\\n',\n",
       " 'Come out and round up everyone that knows more than they do\\n',\n",
       " 'Then they bring them to the factory where the heart-attack machine\\n',\n",
       " 'Is strapped across their shoulders and then the kerosene\\n',\n",
       " 'Is brought down from the castles by insurance men who go\\n',\n",
       " 'Check to see that nobody is escaping to Desolation Row\\n',\n",
       " \"Praise be to Nero's Neptune, the Titanic sails at dawn\\n\",\n",
       " 'Everybody\\'s shouting, \"Which side are you on?!\"\\n',\n",
       " \"And Ezra Pound and T.S. Eliot fighting in the captain's tower\\n\",\n",
       " 'While calypso singers laugh at them and fishermen hold flowers\\n',\n",
       " 'Between the windows of the sea where lovely mermaids flow\\n',\n",
       " 'And nobody has to think too much about Desolation Row\\n',\n",
       " 'Yes, I received your letter yesterday, about the time the doorknob broke\\n',\n",
       " 'When you asked me how I was doing, was that some kind of joke\\n',\n",
       " \"All these people that you mention, yes, I know them, they're quite lame\\n\",\n",
       " 'I had to rearrange their faces and give them all another name\\n',\n",
       " \"Right now, I can't read too good, don't send me no more letters no\\n\",\n",
       " 'Not unless you mail them from Desolation Row']"
      ]
     },
     "execution_count": 10,
     "metadata": {},
     "output_type": "execute_result"
    }
   ],
   "source": [
    "file = open('data/desolation_row.txt')\n",
    "file.readlines()\n"
   ]
  },
  {
   "cell_type": "markdown",
   "id": "eec548d6",
   "metadata": {},
   "source": [
    "#### 11. Create a function the will simulate rolling two die and return the value of each and and the sum "
   ]
  },
  {
   "cell_type": "code",
   "execution_count": 26,
   "id": "bb115cdc",
   "metadata": {},
   "outputs": [
    {
     "name": "stdout",
     "output_type": "stream",
     "text": [
      "(4, 5, 9)\n"
     ]
    }
   ],
   "source": [
    "import random\n",
    "\n",
    "def roll_dice():\n",
    "    die1 = random.randint(1, 6)  \n",
    "    die2 = random.randint(1, 6) \n",
    "    total = die1 + die2  # Calculate the sum\n",
    "    \n",
    "    return die1, die2, total\n",
    "print(roll_dice())\n"
   ]
  },
  {
   "cell_type": "markdown",
   "id": "21556d7f",
   "metadata": {},
   "source": [
    "#### 12. Write the code needed to evaluate whether a value in a group of values is negative or postive and prints an approriate message, i.e. postive, negative \n",
    "-1.59, 2.36, 1.69, 1.13, -0.91, 1.48, -0.34, 1.31, -0.74, 0.2"
   ]
  },
  {
   "cell_type": "code",
   "execution_count": 28,
   "id": "d6c38ecb",
   "metadata": {},
   "outputs": [
    {
     "name": "stdout",
     "output_type": "stream",
     "text": [
      "-1.59 is Negative\n",
      "2.36 is Positive\n",
      "1.69 is Positive\n",
      "1.13 is Positive\n",
      "-0.91 is Negative\n",
      "1.48 is Positive\n",
      "-0.34 is Negative\n",
      "1.31 is Positive\n",
      "-0.74 is Negative\n",
      "0.2 is Positive\n"
     ]
    }
   ],
   "source": [
    "values = [-1.59, 2.36, 1.69, 1.13, -0.91, 1.48, -0.34, 1.31, -0.74, 0.2]\n",
    "\n",
    "for value in values:\n",
    "    if value > 0:\n",
    "        print(f\"{value} is Positive\")\n",
    "    elif value < 0:\n",
    "        print(f\"{value} is Negative\")\n",
    "    else:\n",
    "        print(f\"{value} is Zero\") "
   ]
  },
  {
   "cell_type": "code",
   "execution_count": null,
   "id": "aaefba17",
   "metadata": {},
   "outputs": [],
   "source": []
  },
  {
   "cell_type": "markdown",
   "id": "8cafe65c",
   "metadata": {},
   "source": [
    "#### 14.  Complete the following:\n",
    "1. Write a program that generates 500 random integers from 1 to n, for example, the first integer will be 1 the second will be 1 or 2, the fifth between 1 and 5, and so on.\n",
    "2. The program should write each integer to a file \n",
    "3. Once all integers are written close the file\n",
    "\n",
    "##### Part 2\n",
    "1. Open and read the file into a list\n",
    "2. Create a line plot of the data"
   ]
  },
  {
   "cell_type": "code",
   "execution_count": 30,
   "id": "60a910bb",
   "metadata": {},
   "outputs": [],
   "source": [
    "import random"
   ]
  },
  {
   "cell_type": "code",
   "execution_count": 32,
   "id": "d6b4180c",
   "metadata": {},
   "outputs": [
    {
     "name": "stdout",
     "output_type": "stream",
     "text": [
      "Random integers written to the file.\n"
     ]
    }
   ],
   "source": [
    "with open(\"random_integers.txt\", \"w\") as file:\n",
    "    for i in range(1, 501):  \n",
    "        rand_int = random.randint(1, i)  \n",
    "        file.write(f\"{rand_int}\\n\")  \n",
    "\n",
    "print(\"Random integers written to the file.\")"
   ]
  },
  {
   "cell_type": "code",
   "execution_count": 34,
   "id": "adb6aa11",
   "metadata": {},
   "outputs": [
    {
     "data": {
      "image/png": "[encoded data removed]",
      "text/plain": [
       "<Figure size 640x480 with 1 Axes>"
      ]
     },
     "metadata": {},
     "output_type": "display_data"
    }
   ],
   "source": [
    "import matplotlib.pyplot as plt\n",
    "\n",
    "\n",
    "with open(\"random_integers.txt\", \"r\") as file:\n",
    "    integers = [int(line.strip()) for line in file.readlines()]\n",
    "\n",
    "#  line plot of the data\n",
    "plt.plot(integers)\n",
    "plt.title(\"Line Plot of Random Integers\")\n",
    "plt.xlabel(\"Index\")\n",
    "plt.ylabel(\"Random Integer Value\")\n",
    "plt.show()"
   ]
  },
  {
   "cell_type": "code",
   "execution_count": null,
   "id": "6745da79",
   "metadata": {},
   "outputs": [],
   "source": []
  },
  {
   "cell_type": "code",
   "execution_count": null,
   "id": "21140445",
   "metadata": {},
   "outputs": [],
   "source": []
  },
  {
   "cell_type": "code",
   "execution_count": null,
   "id": "3d546600",
   "metadata": {},
   "outputs": [],
   "source": []
  }
 ],
 "metadata": {
  "kernelspec": {
   "display_name": "Python [conda env:base] *",
   "language": "python",
   "name": "conda-base-py"
  },
  "language_info": {
   "codemirror_mode": {
    "name": "ipython",
    "version": 3
   },
   "file_extension": ".py",
   "mimetype": "text/x-python",
   "name": "python",
   "nbconvert_exporter": "python",
   "pygments_lexer": "ipython3",
   "version": "3.12.7"
  }
 },
 "nbformat": 4,
 "nbformat_minor": 5
}
